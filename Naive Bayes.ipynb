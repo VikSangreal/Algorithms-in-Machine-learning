{
 "cells": [
  {
   "cell_type": "code",
   "execution_count": 1,
   "metadata": {},
   "outputs": [],
   "source": [
    "import numpy as np\n",
    "import pandas as pd\n",
    "import seaborn as sns\n",
    "import matplotlib.pyplot as plt\n",
    "%matplotlib inline "
   ]
  },
  {
   "cell_type": "code",
   "execution_count": 3,
   "metadata": {},
   "outputs": [],
   "source": [
    "df=pd.read_csv('accidents-1.csv')"
   ]
  },
  {
   "cell_type": "code",
   "execution_count": 4,
   "metadata": {},
   "outputs": [
    {
     "data": {
      "text/html": [
       "<div>\n",
       "<style scoped>\n",
       "    .dataframe tbody tr th:only-of-type {\n",
       "        vertical-align: middle;\n",
       "    }\n",
       "\n",
       "    .dataframe tbody tr th {\n",
       "        vertical-align: top;\n",
       "    }\n",
       "\n",
       "    .dataframe thead th {\n",
       "        text-align: right;\n",
       "    }\n",
       "</style>\n",
       "<table border=\"1\" class=\"dataframe\">\n",
       "  <thead>\n",
       "    <tr style=\"text-align: right;\">\n",
       "      <th></th>\n",
       "      <th>RushHour</th>\n",
       "      <th>WRK_ZONE</th>\n",
       "      <th>WKDY</th>\n",
       "      <th>INT_HWY</th>\n",
       "      <th>LGTCON_day</th>\n",
       "      <th>LEVEL</th>\n",
       "      <th>SPD_LIM</th>\n",
       "      <th>SUR_COND_dry</th>\n",
       "      <th>TRAF_two_way</th>\n",
       "      <th>WEATHER_adverse</th>\n",
       "      <th>MAX_SEV</th>\n",
       "    </tr>\n",
       "  </thead>\n",
       "  <tbody>\n",
       "    <tr>\n",
       "      <th>0</th>\n",
       "      <td>1</td>\n",
       "      <td>0</td>\n",
       "      <td>1</td>\n",
       "      <td>1</td>\n",
       "      <td>0</td>\n",
       "      <td>1</td>\n",
       "      <td>70</td>\n",
       "      <td>0</td>\n",
       "      <td>0</td>\n",
       "      <td>1</td>\n",
       "      <td>NOT_SEVERE</td>\n",
       "    </tr>\n",
       "    <tr>\n",
       "      <th>1</th>\n",
       "      <td>1</td>\n",
       "      <td>0</td>\n",
       "      <td>1</td>\n",
       "      <td>0</td>\n",
       "      <td>0</td>\n",
       "      <td>0</td>\n",
       "      <td>55</td>\n",
       "      <td>0</td>\n",
       "      <td>1</td>\n",
       "      <td>0</td>\n",
       "      <td>SEVERE</td>\n",
       "    </tr>\n",
       "    <tr>\n",
       "      <th>2</th>\n",
       "      <td>1</td>\n",
       "      <td>0</td>\n",
       "      <td>0</td>\n",
       "      <td>0</td>\n",
       "      <td>0</td>\n",
       "      <td>0</td>\n",
       "      <td>35</td>\n",
       "      <td>0</td>\n",
       "      <td>0</td>\n",
       "      <td>1</td>\n",
       "      <td>NOT_SEVERE</td>\n",
       "    </tr>\n",
       "    <tr>\n",
       "      <th>3</th>\n",
       "      <td>1</td>\n",
       "      <td>0</td>\n",
       "      <td>1</td>\n",
       "      <td>0</td>\n",
       "      <td>0</td>\n",
       "      <td>1</td>\n",
       "      <td>35</td>\n",
       "      <td>0</td>\n",
       "      <td>0</td>\n",
       "      <td>1</td>\n",
       "      <td>NOT_SEVERE</td>\n",
       "    </tr>\n",
       "    <tr>\n",
       "      <th>4</th>\n",
       "      <td>1</td>\n",
       "      <td>0</td>\n",
       "      <td>1</td>\n",
       "      <td>0</td>\n",
       "      <td>0</td>\n",
       "      <td>0</td>\n",
       "      <td>25</td>\n",
       "      <td>0</td>\n",
       "      <td>0</td>\n",
       "      <td>1</td>\n",
       "      <td>SEVERE</td>\n",
       "    </tr>\n",
       "  </tbody>\n",
       "</table>\n",
       "</div>"
      ],
      "text/plain": [
       "   RushHour  WRK_ZONE  WKDY  INT_HWY  LGTCON_day  LEVEL  SPD_LIM  \\\n",
       "0         1         0     1        1           0      1       70   \n",
       "1         1         0     1        0           0      0       55   \n",
       "2         1         0     0        0           0      0       35   \n",
       "3         1         0     1        0           0      1       35   \n",
       "4         1         0     1        0           0      0       25   \n",
       "\n",
       "   SUR_COND_dry  TRAF_two_way  WEATHER_adverse     MAX_SEV  \n",
       "0             0             0                1  NOT_SEVERE  \n",
       "1             0             1                0      SEVERE  \n",
       "2             0             0                1  NOT_SEVERE  \n",
       "3             0             0                1  NOT_SEVERE  \n",
       "4             0             0                1      SEVERE  "
      ]
     },
     "execution_count": 4,
     "metadata": {},
     "output_type": "execute_result"
    }
   ],
   "source": [
    "df.head()"
   ]
  },
  {
   "cell_type": "code",
   "execution_count": 5,
   "metadata": {},
   "outputs": [
    {
     "name": "stdout",
     "output_type": "stream",
     "text": [
      "<class 'pandas.core.frame.DataFrame'>\n",
      "RangeIndex: 600 entries, 0 to 599\n",
      "Data columns (total 11 columns):\n",
      "RushHour           600 non-null int64\n",
      "WRK_ZONE           600 non-null int64\n",
      "WKDY               600 non-null int64\n",
      "INT_HWY            600 non-null int64\n",
      "LGTCON_day         600 non-null int64\n",
      "LEVEL              600 non-null int64\n",
      "SPD_LIM            600 non-null int64\n",
      "SUR_COND_dry       600 non-null int64\n",
      "TRAF_two_way       600 non-null int64\n",
      "WEATHER_adverse    600 non-null int64\n",
      "MAX_SEV            600 non-null object\n",
      "dtypes: int64(10), object(1)\n",
      "memory usage: 51.6+ KB\n"
     ]
    }
   ],
   "source": [
    "df.info()"
   ]
  },
  {
   "cell_type": "code",
   "execution_count": 6,
   "metadata": {},
   "outputs": [
    {
     "data": {
      "text/plain": [
       "RushHour           0\n",
       "WRK_ZONE           0\n",
       "WKDY               0\n",
       "INT_HWY            0\n",
       "LGTCON_day         0\n",
       "LEVEL              0\n",
       "SPD_LIM            0\n",
       "SUR_COND_dry       0\n",
       "TRAF_two_way       0\n",
       "WEATHER_adverse    0\n",
       "MAX_SEV            0\n",
       "dtype: int64"
      ]
     },
     "execution_count": 6,
     "metadata": {},
     "output_type": "execute_result"
    }
   ],
   "source": [
    "df.isnull().sum()"
   ]
  },
  {
   "cell_type": "code",
   "execution_count": 7,
   "metadata": {},
   "outputs": [],
   "source": [
    "df['MAX_SEV'] = df['MAX_SEV'] .astype('category')"
   ]
  },
  {
   "cell_type": "code",
   "execution_count": 8,
   "metadata": {},
   "outputs": [
    {
     "name": "stdout",
     "output_type": "stream",
     "text": [
      "<class 'pandas.core.frame.DataFrame'>\n",
      "RangeIndex: 600 entries, 0 to 599\n",
      "Data columns (total 11 columns):\n",
      "RushHour           600 non-null int64\n",
      "WRK_ZONE           600 non-null int64\n",
      "WKDY               600 non-null int64\n",
      "INT_HWY            600 non-null int64\n",
      "LGTCON_day         600 non-null int64\n",
      "LEVEL              600 non-null int64\n",
      "SPD_LIM            600 non-null int64\n",
      "SUR_COND_dry       600 non-null int64\n",
      "TRAF_two_way       600 non-null int64\n",
      "WEATHER_adverse    600 non-null int64\n",
      "MAX_SEV            600 non-null category\n",
      "dtypes: category(1), int64(10)\n",
      "memory usage: 47.6 KB\n"
     ]
    }
   ],
   "source": [
    "df.info()"
   ]
  },
  {
   "cell_type": "code",
   "execution_count": 9,
   "metadata": {},
   "outputs": [],
   "source": [
    "\n",
    "from sklearn.naive_bayes import GaussianNB\n",
    "\n",
    "\n",
    "\n",
    "from sklearn.model_selection import train_test_split\n",
    "\n",
    "\n",
    "# calculate accuracy measures and confusion matrix\n",
    "from sklearn import metrics"
   ]
  },
  {
   "cell_type": "code",
   "execution_count": 10,
   "metadata": {},
   "outputs": [
    {
     "data": {
      "text/plain": [
       "SEVERE        308\n",
       "NOT_SEVERE    292\n",
       "Name: MAX_SEV, dtype: int64"
      ]
     },
     "execution_count": 10,
     "metadata": {},
     "output_type": "execute_result"
    }
   ],
   "source": [
    "df['MAX_SEV'].value_counts()"
   ]
  },
  {
   "cell_type": "code",
   "execution_count": 11,
   "metadata": {},
   "outputs": [
    {
     "data": {
      "text/plain": [
       "<seaborn.axisgrid.PairGrid at 0x270669d9390>"
      ]
     },
     "execution_count": 11,
     "metadata": {},
     "output_type": "execute_result"
    },
    {
     "data": {
      "image/png": "[encoded data removed]",
      "text/plain": [
       "<Figure size 1800x1800 with 110 Axes>"
      ]
     },
     "metadata": {
      "needs_background": "light"
     },
     "output_type": "display_data"
    }
   ],
   "source": [
    "sns.pairplot(df)"
   ]
  },
  {
   "cell_type": "code",
   "execution_count": 12,
   "metadata": {},
   "outputs": [],
   "source": [
    "# Putting feature variable to X\n",
    "X = df.drop(['MAX_SEV'],axis=1)\n",
    "\n",
    "# Putting response variable to y\n",
    "y = df['MAX_SEV']"
   ]
  },
  {
   "cell_type": "code",
   "execution_count": 13,
   "metadata": {},
   "outputs": [],
   "source": [
    "# Create the training and test data set in the ratio of 70:30 respectively. Can be any other ratio...\n",
    "\n",
    "test_size = 0.30 # taking 70:30 training and test set\n",
    "seed = 7  # Random numbmer seeding for reapeatability of the code\n",
    "\n",
    "X_train, X_test, y_train, y_test = train_test_split(X, y, test_size=test_size, random_state=seed)"
   ]
  },
  {
   "cell_type": "code",
   "execution_count": 14,
   "metadata": {},
   "outputs": [
    {
     "data": {
      "text/plain": [
       "GaussianNB(priors=None, var_smoothing=1e-09)"
      ]
     },
     "execution_count": 14,
     "metadata": {},
     "output_type": "execute_result"
    }
   ],
   "source": [
    "# Invoking the NB Gaussian function to create the model\n",
    "# fitting the model in the training data set\n",
    "model = GaussianNB()\n",
    "model.fit(X_train, y_train)"
   ]
  },
  {
   "cell_type": "code",
   "execution_count": 15,
   "metadata": {},
   "outputs": [
    {
     "name": "stdout",
     "output_type": "stream",
     "text": [
      "              precision    recall  f1-score   support\n",
      "\n",
      "  NOT_SEVERE       0.45      0.75      0.56        79\n",
      "      SEVERE       0.58      0.28      0.38       101\n",
      "\n",
      "   micro avg       0.48      0.48      0.48       180\n",
      "   macro avg       0.52      0.51      0.47       180\n",
      "weighted avg       0.52      0.48      0.46       180\n",
      "\n",
      "[[59 20]\n",
      " [73 28]]\n"
     ]
    }
   ],
   "source": [
    "# make predictions\n",
    "expected = y_test\n",
    "predicted = model.predict(X_test)\n",
    "# summarize the fit of the model\n",
    "print(metrics.classification_report(expected, predicted))\n",
    "print(metrics.confusion_matrix(expected, predicted))"
   ]
  },
  {
   "cell_type": "code",
   "execution_count": 16,
   "metadata": {},
   "outputs": [
    {
     "data": {
      "text/plain": [
       "array(['NOT_SEVERE', 'SEVERE', 'SEVERE', 'SEVERE', 'SEVERE', 'NOT_SEVERE',\n",
       "       'SEVERE', 'NOT_SEVERE', 'SEVERE', 'NOT_SEVERE', 'SEVERE', 'SEVERE',\n",
       "       'NOT_SEVERE', 'NOT_SEVERE', 'NOT_SEVERE', 'SEVERE', 'NOT_SEVERE',\n",
       "       'NOT_SEVERE', 'NOT_SEVERE', 'NOT_SEVERE', 'SEVERE', 'NOT_SEVERE',\n",
       "       'SEVERE', 'NOT_SEVERE', 'NOT_SEVERE', 'NOT_SEVERE', 'NOT_SEVERE',\n",
       "       'SEVERE', 'SEVERE', 'NOT_SEVERE', 'NOT_SEVERE', 'NOT_SEVERE',\n",
       "       'NOT_SEVERE', 'NOT_SEVERE', 'NOT_SEVERE', 'NOT_SEVERE', 'SEVERE',\n",
       "       'NOT_SEVERE', 'SEVERE', 'NOT_SEVERE', 'NOT_SEVERE', 'SEVERE',\n",
       "       'NOT_SEVERE', 'NOT_SEVERE', 'NOT_SEVERE', 'NOT_SEVERE',\n",
       "       'NOT_SEVERE', 'SEVERE', 'NOT_SEVERE', 'NOT_SEVERE', 'NOT_SEVERE',\n",
       "       'NOT_SEVERE', 'NOT_SEVERE', 'NOT_SEVERE', 'NOT_SEVERE', 'SEVERE',\n",
       "       'NOT_SEVERE', 'NOT_SEVERE', 'NOT_SEVERE', 'NOT_SEVERE',\n",
       "       'NOT_SEVERE', 'NOT_SEVERE', 'NOT_SEVERE', 'NOT_SEVERE',\n",
       "       'NOT_SEVERE', 'NOT_SEVERE', 'SEVERE', 'NOT_SEVERE', 'NOT_SEVERE',\n",
       "       'NOT_SEVERE', 'NOT_SEVERE', 'SEVERE', 'NOT_SEVERE', 'SEVERE',\n",
       "       'NOT_SEVERE', 'NOT_SEVERE', 'NOT_SEVERE', 'NOT_SEVERE',\n",
       "       'NOT_SEVERE', 'SEVERE', 'NOT_SEVERE', 'NOT_SEVERE', 'NOT_SEVERE',\n",
       "       'NOT_SEVERE', 'NOT_SEVERE', 'NOT_SEVERE', 'NOT_SEVERE',\n",
       "       'NOT_SEVERE', 'NOT_SEVERE', 'NOT_SEVERE', 'SEVERE', 'NOT_SEVERE',\n",
       "       'SEVERE', 'SEVERE', 'NOT_SEVERE', 'NOT_SEVERE', 'NOT_SEVERE',\n",
       "       'NOT_SEVERE', 'NOT_SEVERE', 'NOT_SEVERE', 'NOT_SEVERE',\n",
       "       'NOT_SEVERE', 'NOT_SEVERE', 'NOT_SEVERE', 'SEVERE', 'SEVERE',\n",
       "       'NOT_SEVERE', 'NOT_SEVERE', 'NOT_SEVERE', 'NOT_SEVERE',\n",
       "       'NOT_SEVERE', 'NOT_SEVERE', 'SEVERE', 'NOT_SEVERE', 'SEVERE',\n",
       "       'NOT_SEVERE', 'SEVERE', 'SEVERE', 'NOT_SEVERE', 'NOT_SEVERE',\n",
       "       'NOT_SEVERE', 'NOT_SEVERE', 'NOT_SEVERE', 'NOT_SEVERE',\n",
       "       'NOT_SEVERE', 'NOT_SEVERE', 'NOT_SEVERE', 'NOT_SEVERE',\n",
       "       'NOT_SEVERE', 'SEVERE', 'NOT_SEVERE', 'SEVERE', 'NOT_SEVERE',\n",
       "       'SEVERE', 'SEVERE', 'SEVERE', 'NOT_SEVERE', 'NOT_SEVERE', 'SEVERE',\n",
       "       'NOT_SEVERE', 'NOT_SEVERE', 'SEVERE', 'SEVERE', 'NOT_SEVERE',\n",
       "       'NOT_SEVERE', 'NOT_SEVERE', 'NOT_SEVERE', 'NOT_SEVERE', 'SEVERE',\n",
       "       'NOT_SEVERE', 'SEVERE', 'NOT_SEVERE', 'SEVERE', 'SEVERE',\n",
       "       'NOT_SEVERE', 'NOT_SEVERE', 'NOT_SEVERE', 'NOT_SEVERE', 'SEVERE',\n",
       "       'NOT_SEVERE', 'NOT_SEVERE', 'NOT_SEVERE', 'SEVERE', 'NOT_SEVERE',\n",
       "       'NOT_SEVERE', 'NOT_SEVERE', 'NOT_SEVERE', 'NOT_SEVERE',\n",
       "       'NOT_SEVERE', 'NOT_SEVERE', 'NOT_SEVERE', 'NOT_SEVERE',\n",
       "       'NOT_SEVERE', 'NOT_SEVERE', 'NOT_SEVERE', 'SEVERE', 'NOT_SEVERE',\n",
       "       'SEVERE', 'SEVERE', 'NOT_SEVERE'], dtype='<U10')"
      ]
     },
     "execution_count": 16,
     "metadata": {},
     "output_type": "execute_result"
    }
   ],
   "source": [
    "predicted"
   ]
  },
  {
   "cell_type": "code",
   "execution_count": 17,
   "metadata": {},
   "outputs": [],
   "source": [
    "from sklearn.naive_bayes import BernoulliNB"
   ]
  },
  {
   "cell_type": "code",
   "execution_count": 18,
   "metadata": {},
   "outputs": [
    {
     "data": {
      "text/plain": [
       "BernoulliNB(alpha=1.0, binarize=0.0, class_prior=None, fit_prior=True)"
      ]
     },
     "execution_count": 18,
     "metadata": {},
     "output_type": "execute_result"
    }
   ],
   "source": [
    "\n",
    "# fitting the model in the training data set\n",
    "model = BernoulliNB()\n",
    "model.fit(X_train, y_train)"
   ]
  },
  {
   "cell_type": "code",
   "execution_count": 19,
   "metadata": {},
   "outputs": [
    {
     "name": "stdout",
     "output_type": "stream",
     "text": [
      "              precision    recall  f1-score   support\n",
      "\n",
      "  NOT_SEVERE       0.43      0.32      0.36        79\n",
      "      SEVERE       0.56      0.67      0.61       101\n",
      "\n",
      "   micro avg       0.52      0.52      0.52       180\n",
      "   macro avg       0.49      0.49      0.49       180\n",
      "weighted avg       0.50      0.52      0.50       180\n",
      "\n",
      "[[25 54]\n",
      " [33 68]]\n"
     ]
    }
   ],
   "source": [
    "# make predictions\n",
    "expected = y_test\n",
    "predicted = model.predict(X_test)\n",
    "# summarize the fit of the model\n",
    "print(metrics.classification_report(expected, predicted))\n",
    "print(metrics.confusion_matrix(expected, predicted))"
   ]
  },
  {
   "cell_type": "code",
   "execution_count": 20,
   "metadata": {},
   "outputs": [
    {
     "data": {
      "text/plain": [
       "array(['SEVERE', 'SEVERE', 'SEVERE', 'SEVERE', 'NOT_SEVERE', 'SEVERE',\n",
       "       'SEVERE', 'SEVERE', 'SEVERE', 'SEVERE', 'NOT_SEVERE', 'SEVERE',\n",
       "       'SEVERE', 'NOT_SEVERE', 'SEVERE', 'SEVERE', 'SEVERE', 'SEVERE',\n",
       "       'SEVERE', 'SEVERE', 'SEVERE', 'SEVERE', 'NOT_SEVERE', 'SEVERE',\n",
       "       'NOT_SEVERE', 'SEVERE', 'SEVERE', 'SEVERE', 'NOT_SEVERE', 'SEVERE',\n",
       "       'SEVERE', 'SEVERE', 'SEVERE', 'SEVERE', 'NOT_SEVERE', 'SEVERE',\n",
       "       'SEVERE', 'SEVERE', 'SEVERE', 'NOT_SEVERE', 'SEVERE', 'SEVERE',\n",
       "       'SEVERE', 'SEVERE', 'SEVERE', 'NOT_SEVERE', 'SEVERE', 'SEVERE',\n",
       "       'SEVERE', 'NOT_SEVERE', 'NOT_SEVERE', 'SEVERE', 'NOT_SEVERE',\n",
       "       'SEVERE', 'SEVERE', 'SEVERE', 'NOT_SEVERE', 'SEVERE', 'NOT_SEVERE',\n",
       "       'SEVERE', 'NOT_SEVERE', 'NOT_SEVERE', 'SEVERE', 'SEVERE',\n",
       "       'NOT_SEVERE', 'SEVERE', 'NOT_SEVERE', 'SEVERE', 'NOT_SEVERE',\n",
       "       'SEVERE', 'SEVERE', 'NOT_SEVERE', 'NOT_SEVERE', 'NOT_SEVERE',\n",
       "       'SEVERE', 'SEVERE', 'NOT_SEVERE', 'SEVERE', 'NOT_SEVERE',\n",
       "       'NOT_SEVERE', 'SEVERE', 'SEVERE', 'SEVERE', 'SEVERE', 'SEVERE',\n",
       "       'SEVERE', 'SEVERE', 'SEVERE', 'SEVERE', 'SEVERE', 'SEVERE',\n",
       "       'NOT_SEVERE', 'NOT_SEVERE', 'NOT_SEVERE', 'NOT_SEVERE',\n",
       "       'NOT_SEVERE', 'SEVERE', 'SEVERE', 'SEVERE', 'SEVERE', 'SEVERE',\n",
       "       'SEVERE', 'SEVERE', 'SEVERE', 'SEVERE', 'SEVERE', 'NOT_SEVERE',\n",
       "       'SEVERE', 'SEVERE', 'NOT_SEVERE', 'SEVERE', 'NOT_SEVERE', 'SEVERE',\n",
       "       'NOT_SEVERE', 'SEVERE', 'SEVERE', 'SEVERE', 'NOT_SEVERE', 'SEVERE',\n",
       "       'SEVERE', 'SEVERE', 'NOT_SEVERE', 'NOT_SEVERE', 'SEVERE', 'SEVERE',\n",
       "       'NOT_SEVERE', 'SEVERE', 'NOT_SEVERE', 'SEVERE', 'NOT_SEVERE',\n",
       "       'SEVERE', 'SEVERE', 'NOT_SEVERE', 'SEVERE', 'NOT_SEVERE', 'SEVERE',\n",
       "       'SEVERE', 'SEVERE', 'NOT_SEVERE', 'SEVERE', 'NOT_SEVERE', 'SEVERE',\n",
       "       'SEVERE', 'NOT_SEVERE', 'SEVERE', 'NOT_SEVERE', 'NOT_SEVERE',\n",
       "       'NOT_SEVERE', 'SEVERE', 'SEVERE', 'SEVERE', 'NOT_SEVERE', 'SEVERE',\n",
       "       'NOT_SEVERE', 'NOT_SEVERE', 'NOT_SEVERE', 'SEVERE', 'SEVERE',\n",
       "       'NOT_SEVERE', 'NOT_SEVERE', 'NOT_SEVERE', 'NOT_SEVERE', 'SEVERE',\n",
       "       'NOT_SEVERE', 'SEVERE', 'NOT_SEVERE', 'SEVERE', 'SEVERE', 'SEVERE',\n",
       "       'SEVERE', 'SEVERE', 'SEVERE', 'SEVERE', 'SEVERE', 'SEVERE',\n",
       "       'SEVERE', 'SEVERE', 'SEVERE', 'SEVERE', 'SEVERE'], dtype='<U10')"
      ]
     },
     "execution_count": 20,
     "metadata": {},
     "output_type": "execute_result"
    }
   ],
   "source": [
    "predicted"
   ]
  },
  {
   "cell_type": "code",
   "execution_count": 21,
   "metadata": {},
   "outputs": [],
   "source": [
    "from sklearn.naive_bayes import MultinomialNB"
   ]
  },
  {
   "cell_type": "code",
   "execution_count": 22,
   "metadata": {},
   "outputs": [
    {
     "data": {
      "text/plain": [
       "MultinomialNB(alpha=1.0, class_prior=None, fit_prior=True)"
      ]
     },
     "execution_count": 22,
     "metadata": {},
     "output_type": "execute_result"
    }
   ],
   "source": [
    "# fitting the model in the training data set\n",
    "model = MultinomialNB()\n",
    "model.fit(X_train, y_train)"
   ]
  },
  {
   "cell_type": "code",
   "execution_count": 23,
   "metadata": {},
   "outputs": [
    {
     "name": "stdout",
     "output_type": "stream",
     "text": [
      "              precision    recall  f1-score   support\n",
      "\n",
      "  NOT_SEVERE       0.45      0.35      0.40        79\n",
      "      SEVERE       0.57      0.66      0.61       101\n",
      "\n",
      "   micro avg       0.53      0.53      0.53       180\n",
      "   macro avg       0.51      0.51      0.50       180\n",
      "weighted avg       0.52      0.53      0.52       180\n",
      "\n",
      "[[28 51]\n",
      " [34 67]]\n"
     ]
    }
   ],
   "source": [
    "# make predictions\n",
    "expected = y_test\n",
    "predicted = model.predict(X_test)\n",
    "# summarize the fit of the model\n",
    "print(metrics.classification_report(expected, predicted))\n",
    "print(metrics.confusion_matrix(expected, predicted))"
   ]
  },
  {
   "cell_type": "code",
   "execution_count": 24,
   "metadata": {},
   "outputs": [
    {
     "data": {
      "text/plain": [
       "array(['NOT_SEVERE', 'SEVERE', 'SEVERE', 'SEVERE', 'SEVERE', 'SEVERE',\n",
       "       'SEVERE', 'SEVERE', 'SEVERE', 'NOT_SEVERE', 'NOT_SEVERE', 'SEVERE',\n",
       "       'SEVERE', 'NOT_SEVERE', 'SEVERE', 'SEVERE', 'SEVERE', 'SEVERE',\n",
       "       'SEVERE', 'SEVERE', 'SEVERE', 'SEVERE', 'SEVERE', 'SEVERE',\n",
       "       'NOT_SEVERE', 'SEVERE', 'SEVERE', 'SEVERE', 'SEVERE', 'SEVERE',\n",
       "       'SEVERE', 'SEVERE', 'SEVERE', 'SEVERE', 'NOT_SEVERE', 'SEVERE',\n",
       "       'SEVERE', 'SEVERE', 'SEVERE', 'NOT_SEVERE', 'SEVERE', 'SEVERE',\n",
       "       'SEVERE', 'SEVERE', 'SEVERE', 'NOT_SEVERE', 'SEVERE', 'SEVERE',\n",
       "       'SEVERE', 'NOT_SEVERE', 'NOT_SEVERE', 'SEVERE', 'NOT_SEVERE',\n",
       "       'SEVERE', 'SEVERE', 'SEVERE', 'NOT_SEVERE', 'SEVERE', 'NOT_SEVERE',\n",
       "       'SEVERE', 'NOT_SEVERE', 'NOT_SEVERE', 'SEVERE', 'SEVERE',\n",
       "       'NOT_SEVERE', 'NOT_SEVERE', 'SEVERE', 'SEVERE', 'NOT_SEVERE',\n",
       "       'SEVERE', 'SEVERE', 'SEVERE', 'NOT_SEVERE', 'NOT_SEVERE', 'SEVERE',\n",
       "       'NOT_SEVERE', 'NOT_SEVERE', 'SEVERE', 'NOT_SEVERE', 'NOT_SEVERE',\n",
       "       'NOT_SEVERE', 'SEVERE', 'SEVERE', 'SEVERE', 'NOT_SEVERE', 'SEVERE',\n",
       "       'SEVERE', 'SEVERE', 'SEVERE', 'SEVERE', 'SEVERE', 'NOT_SEVERE',\n",
       "       'SEVERE', 'SEVERE', 'NOT_SEVERE', 'NOT_SEVERE', 'SEVERE', 'SEVERE',\n",
       "       'NOT_SEVERE', 'SEVERE', 'NOT_SEVERE', 'NOT_SEVERE', 'SEVERE',\n",
       "       'SEVERE', 'SEVERE', 'SEVERE', 'NOT_SEVERE', 'SEVERE', 'SEVERE',\n",
       "       'NOT_SEVERE', 'SEVERE', 'NOT_SEVERE', 'SEVERE', 'NOT_SEVERE',\n",
       "       'SEVERE', 'SEVERE', 'SEVERE', 'NOT_SEVERE', 'SEVERE', 'SEVERE',\n",
       "       'SEVERE', 'NOT_SEVERE', 'NOT_SEVERE', 'SEVERE', 'SEVERE',\n",
       "       'NOT_SEVERE', 'NOT_SEVERE', 'NOT_SEVERE', 'SEVERE', 'NOT_SEVERE',\n",
       "       'SEVERE', 'SEVERE', 'NOT_SEVERE', 'SEVERE', 'NOT_SEVERE', 'SEVERE',\n",
       "       'SEVERE', 'SEVERE', 'SEVERE', 'SEVERE', 'NOT_SEVERE', 'SEVERE',\n",
       "       'SEVERE', 'NOT_SEVERE', 'NOT_SEVERE', 'NOT_SEVERE', 'NOT_SEVERE',\n",
       "       'NOT_SEVERE', 'SEVERE', 'SEVERE', 'SEVERE', 'NOT_SEVERE', 'SEVERE',\n",
       "       'SEVERE', 'NOT_SEVERE', 'NOT_SEVERE', 'SEVERE', 'NOT_SEVERE',\n",
       "       'SEVERE', 'NOT_SEVERE', 'NOT_SEVERE', 'NOT_SEVERE', 'SEVERE',\n",
       "       'NOT_SEVERE', 'SEVERE', 'NOT_SEVERE', 'NOT_SEVERE', 'NOT_SEVERE',\n",
       "       'SEVERE', 'SEVERE', 'SEVERE', 'SEVERE', 'SEVERE', 'SEVERE',\n",
       "       'SEVERE', 'SEVERE', 'SEVERE', 'SEVERE', 'SEVERE', 'SEVERE'],\n",
       "      dtype='<U10')"
      ]
     },
     "execution_count": 24,
     "metadata": {},
     "output_type": "execute_result"
    }
   ],
   "source": [
    "predicted"
   ]
  },
  {
   "cell_type": "code",
   "execution_count": 25,
   "metadata": {},
   "outputs": [
    {
     "data": {
      "text/plain": [
       "array([[0.50388576, 0.49611424],\n",
       "       [0.4965989 , 0.5034011 ],\n",
       "       [0.46335276, 0.53664724],\n",
       "       [0.4647218 , 0.5352782 ],\n",
       "       [0.4954459 , 0.5045541 ],\n",
       "       [0.48063539, 0.51936461],\n",
       "       [0.48303164, 0.51696836],\n",
       "       [0.47749378, 0.52250622],\n",
       "       [0.48387922, 0.51612078],\n",
       "       [0.50099349, 0.49900651],\n",
       "       [0.50524258, 0.49475742],\n",
       "       [0.46746145, 0.53253855],\n",
       "       [0.48613389, 0.51386611],\n",
       "       [0.57231248, 0.42768752],\n",
       "       [0.49416799, 0.50583201],\n",
       "       [0.47763353, 0.52236647],\n",
       "       [0.49961733, 0.50038267],\n",
       "       [0.49824118, 0.50175882],\n",
       "       [0.49824118, 0.50175882],\n",
       "       [0.49004056, 0.50995944],\n",
       "       [0.47626029, 0.52373971],\n",
       "       [0.47612058, 0.52387942],\n",
       "       [0.49721679, 0.50278321],\n",
       "       [0.47886732, 0.52113268],\n",
       "       [0.51433003, 0.48566997],\n",
       "       [0.47886732, 0.52113268],\n",
       "       [0.47886732, 0.52113268],\n",
       "       [0.48263729, 0.51736271],\n",
       "       [0.49446467, 0.50553533],\n",
       "       [0.47886732, 0.52113268],\n",
       "       [0.47886732, 0.52113268],\n",
       "       [0.48550864, 0.51449136],\n",
       "       [0.47886732, 0.52113268],\n",
       "       [0.49456276, 0.50543724],\n",
       "       [0.51513035, 0.48486965],\n",
       "       [0.47294649, 0.52705351],\n",
       "       [0.4664844 , 0.5335156 ],\n",
       "       [0.48728967, 0.51271033],\n",
       "       [0.39604372, 0.60395628],\n",
       "       [0.59351767, 0.40648233],\n",
       "       [0.49004056, 0.50995944],\n",
       "       [0.4664844 , 0.5335156 ],\n",
       "       [0.48905965, 0.51094035],\n",
       "       [0.49181096, 0.50818904],\n",
       "       [0.47612058, 0.52387942],\n",
       "       [0.52331996, 0.47668004],\n",
       "       [0.49824118, 0.50175882],\n",
       "       [0.47860163, 0.52139837],\n",
       "       [0.47749378, 0.52250622],\n",
       "       [0.61490015, 0.38509985],\n",
       "       [0.61452611, 0.38547389],\n",
       "       [0.48063539, 0.51936461],\n",
       "       [0.57909854, 0.42090146],\n",
       "       [0.47926144, 0.52073856],\n",
       "       [0.48338414, 0.51661586],\n",
       "       [0.48582431, 0.51417569],\n",
       "       [0.50119813, 0.49880187],\n",
       "       [0.49668915, 0.50331085],\n",
       "       [0.59522556, 0.40477444],\n",
       "       [0.47886732, 0.52113268],\n",
       "       [0.58824817, 0.41175183],\n",
       "       [0.5166951 , 0.4833049 ],\n",
       "       [0.49668915, 0.50331085],\n",
       "       [0.47612058, 0.52387942],\n",
       "       [0.59385707, 0.40614293],\n",
       "       [0.50512179, 0.49487821],\n",
       "       [0.49859292, 0.50140708],\n",
       "       [0.48161533, 0.51838467],\n",
       "       [0.60157635, 0.39842365],\n",
       "       [0.49725986, 0.50274014],\n",
       "       [0.48613389, 0.51386611],\n",
       "       [0.49269398, 0.50730602],\n",
       "       [0.57641279, 0.42358721],\n",
       "       [0.50184084, 0.49815916],\n",
       "       [0.49824118, 0.50175882],\n",
       "       [0.50219372, 0.49780628],\n",
       "       [0.58360019, 0.41639981],\n",
       "       [0.47612058, 0.52387942],\n",
       "       [0.59894562, 0.40105438],\n",
       "       [0.53031265, 0.46968735],\n",
       "       [0.50001215, 0.49998785],\n",
       "       [0.47926144, 0.52073856],\n",
       "       [0.48825905, 0.51174095],\n",
       "       [0.49456276, 0.50543724],\n",
       "       [0.50551656, 0.49448344],\n",
       "       [0.48063539, 0.51936461],\n",
       "       [0.49101018, 0.50898982],\n",
       "       [0.48161533, 0.51838467],\n",
       "       [0.48161533, 0.51838467],\n",
       "       [0.49278069, 0.50721931],\n",
       "       [0.48525406, 0.51474594],\n",
       "       [0.57982999, 0.42017001],\n",
       "       [0.4940699 , 0.5059301 ],\n",
       "       [0.4940699 , 0.5059301 ],\n",
       "       [0.57737092, 0.42262908],\n",
       "       [0.57775624, 0.42224376],\n",
       "       [0.47376901, 0.52623099],\n",
       "       [0.48338414, 0.51661586],\n",
       "       [0.50374574, 0.49625426],\n",
       "       [0.49415662, 0.50584338],\n",
       "       [0.50099349, 0.49900651],\n",
       "       [0.50915851, 0.49084149],\n",
       "       [0.49407775, 0.50592225],\n",
       "       [0.48161533, 0.51838467],\n",
       "       [0.46746145, 0.53253855],\n",
       "       [0.4664844 , 0.5335156 ],\n",
       "       [0.51257018, 0.48742982],\n",
       "       [0.4872783 , 0.5127217 ],\n",
       "       [0.49824118, 0.50175882],\n",
       "       [0.58556798, 0.41443202],\n",
       "       [0.48728967, 0.51271033],\n",
       "       [0.5149259 , 0.4850741 ],\n",
       "       [0.47958126, 0.52041874],\n",
       "       [0.51197417, 0.48802583],\n",
       "       [0.47763353, 0.52236647],\n",
       "       [0.48905965, 0.51094035],\n",
       "       [0.40802719, 0.59197281],\n",
       "       [0.5048478 , 0.4951522 ],\n",
       "       [0.49141625, 0.50858375],\n",
       "       [0.47926144, 0.52073856],\n",
       "       [0.48338414, 0.51661586],\n",
       "       [0.60781902, 0.39218098],\n",
       "       [0.61582925, 0.38417075],\n",
       "       [0.47788781, 0.52211219],\n",
       "       [0.47612058, 0.52387942],\n",
       "       [0.61620281, 0.38379719],\n",
       "       [0.50414053, 0.49585947],\n",
       "       [0.52606556, 0.47393444],\n",
       "       [0.48338414, 0.51661586],\n",
       "       [0.50387791, 0.49612209],\n",
       "       [0.47886732, 0.52113268],\n",
       "       [0.47860163, 0.52139837],\n",
       "       [0.5149259 , 0.4850741 ],\n",
       "       [0.47958126, 0.52041874],\n",
       "       [0.50347174, 0.49652826],\n",
       "       [0.46746145, 0.53253855],\n",
       "       [0.48161533, 0.51838467],\n",
       "       [0.49376185, 0.50623815],\n",
       "       [0.49446467, 0.50553533],\n",
       "       [0.48063539, 0.51936461],\n",
       "       [0.57775624, 0.42224376],\n",
       "       [0.47059651, 0.52940349],\n",
       "       [0.48405494, 0.51594506],\n",
       "       [0.58556798, 0.41443202],\n",
       "       [0.50826835, 0.49173165],\n",
       "       [0.52017879, 0.47982121],\n",
       "       [0.51080018, 0.48919982],\n",
       "       [0.51217561, 0.48782439],\n",
       "       [0.46609137, 0.53390863],\n",
       "       [0.47926144, 0.52073856],\n",
       "       [0.49758021, 0.50241979],\n",
       "       [0.56385017, 0.43614983],\n",
       "       [0.47134438, 0.52865562],\n",
       "       [0.49584069, 0.50415931],\n",
       "       [0.51394538, 0.48605462],\n",
       "       [0.61620281, 0.38379719],\n",
       "       [0.49279206, 0.50720794],\n",
       "       [0.50081758, 0.49918242],\n",
       "       [0.49269398, 0.50730602],\n",
       "       [0.5645143 , 0.4354857 ],\n",
       "       [0.594845  , 0.405155  ],\n",
       "       [0.50764275, 0.49235725],\n",
       "       [0.4664844 , 0.5335156 ],\n",
       "       [0.58729707, 0.41270293],\n",
       "       [0.47926144, 0.52073856],\n",
       "       [0.57641279, 0.42358721],\n",
       "       [0.5049459 , 0.4950541 ],\n",
       "       [0.50001215, 0.49998785],\n",
       "       [0.47886732, 0.52113268],\n",
       "       [0.49686505, 0.50313495],\n",
       "       [0.48063539, 0.51936461],\n",
       "       [0.47886732, 0.52113268],\n",
       "       [0.47886732, 0.52113268],\n",
       "       [0.49686505, 0.50313495],\n",
       "       [0.49668915, 0.50331085],\n",
       "       [0.48525406, 0.51474594],\n",
       "       [0.48728967, 0.51271033],\n",
       "       [0.46511468, 0.53488532],\n",
       "       [0.47861299, 0.52138701],\n",
       "       [0.49415662, 0.50584338]])"
      ]
     },
     "execution_count": 25,
     "metadata": {},
     "output_type": "execute_result"
    }
   ],
   "source": [
    "model.predict_proba(X_test)"
   ]
  },
  {
   "cell_type": "code",
   "execution_count": null,
   "metadata": {},
   "outputs": [],
   "source": []
  }
 ],
 "metadata": {
  "kernelspec": {
   "display_name": "Python 3",
   "language": "python",
   "name": "python3"
  },
  "language_info": {
   "codemirror_mode": {
    "name": "ipython",
    "version": 3
   },
   "file_extension": ".py",
   "mimetype": "text/x-python",
   "name": "python",
   "nbconvert_exporter": "python",
   "pygments_lexer": "ipython3",
   "version": "3.7.3"
  }
 },
 "nbformat": 4,
 "nbformat_minor": 2
}
